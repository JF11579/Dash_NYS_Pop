{
  "nbformat": 4,
  "nbformat_minor": 0,
  "metadata": {
    "colab": {
      "provenance": [],
      "authorship_tag": "ABX9TyPPJcuIOALEnROBZRj0IAJj",
      "include_colab_link": true
    },
    "kernelspec": {
      "name": "python3",
      "display_name": "Python 3"
    },
    "language_info": {
      "name": "python"
    }
  },
  "cells": [
    {
      "cell_type": "markdown",
      "metadata": {
        "id": "view-in-github",
        "colab_type": "text"
      },
      "source": [
        "<a href=\"https://colab.research.google.com/github/JF11579/Dash_NYS_Pop/blob/main/Dash_NYS_Birth_Trends.ipynb\" target=\"_parent\"><img src=\"https://colab.research.google.com/assets/colab-badge.svg\" alt=\"Open In Colab\"/></a>"
      ]
    },
    {
      "cell_type": "markdown",
      "source": [
        "Dash .  compare age and gender acros NYS counties"
      ],
      "metadata": {
        "id": "_GD30pOAK2cc"
      }
    },
    {
      "cell_type": "code",
      "execution_count": null,
      "metadata": {
        "id": "FimysO52Kwn-"
      },
      "outputs": [],
      "source": []
    },
    {
      "cell_type": "markdown",
      "source": [
        "Data comes from US Census table [S0101](https://data.census.gov/table?q=United+States&t=Age+and+Sex&g=040XX00US36$0500000&tid=ACSST1Y2021.S0101)| AGE andSEX"
      ],
      "metadata": {
        "id": "rn-Sb5ciVRQG"
      }
    },
    {
      "cell_type": "code",
      "source": [],
      "metadata": {
        "id": "f09gJnWPVekV"
      },
      "execution_count": null,
      "outputs": []
    }
  ]
}